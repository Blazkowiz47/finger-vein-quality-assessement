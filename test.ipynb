{
 "cells": [
  {
   "cell_type": "code",
   "execution_count": 1,
   "metadata": {},
   "outputs": [
    {
     "name": "stdout",
     "output_type": "stream",
     "text": [
      "Concatenating train set\n",
      "(8332, 10, 10)\n",
      "(8332, 1, 1)\n",
      "Concatenating test set\n",
      "(2381, 10, 10)\n",
      "(2381, 1, 1)\n",
      "Concatenating validation set\n",
      "(1191, 10, 10)\n",
      "(1191, 1, 1)\n"
     ]
    }
   ],
   "source": [
    "from common.data_pipeline.dataset import DatasetCompiler\n",
    "from common.data_pipeline.MMCBNU_6000.dataset import DatasetLoader as mmcbnu\n",
    "from common.data_pipeline.FV_USM.dataset import DatasetLoader as fvusm\n",
    "\n",
    "datasets = DatasetCompiler(datasets=[mmcbnu(), fvusm()])\n",
    "datasets = datasets.compile_datasets()"
   ]
  }
 ],
 "metadata": {
  "kernelspec": {
   "display_name": "dl-tf",
   "language": "python",
   "name": "python3"
  },
  "language_info": {
   "codemirror_mode": {
    "name": "ipython",
    "version": 3
   },
   "file_extension": ".py",
   "mimetype": "text/x-python",
   "name": "python",
   "nbconvert_exporter": "python",
   "pygments_lexer": "ipython3",
   "version": "3.9.17"
  },
  "orig_nbformat": 4
 },
 "nbformat": 4,
 "nbformat_minor": 2
}
