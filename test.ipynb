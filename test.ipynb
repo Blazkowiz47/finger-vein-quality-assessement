{
 "cells": [
  {
   "cell_type": "code",
   "execution_count": 1,
   "metadata": {},
   "outputs": [
    {
     "name": "stderr",
     "output_type": "stream",
     "text": [
      "2023-08-22 14:35:41,998 - root - INFO - Preprocessing MMCBNU6000 dataset for train split.\n",
      "100%|██████████| 4200/4200 [00:31<00:00, 132.49it/s]\n",
      "2023-08-22 14:36:13,743 - root - INFO - Preprocessing MMCBNU6000 dataset for test split.\n",
      "100%|██████████| 1200/1200 [00:09<00:00, 128.66it/s]\n",
      "2023-08-22 14:36:23,078 - root - INFO - Preprocessing MMCBNU6000 dataset for validation split.\n",
      "100%|██████████| 600/600 [00:04<00:00, 129.74it/s]\n",
      "2023-08-22 14:36:35,908 - root - INFO - Preprocessing FV_USM dataset for train split.\n",
      "100%|██████████| 4132/4132 [00:31<00:00, 131.24it/s]\n",
      "2023-08-22 14:37:07,402 - root - INFO - Preprocessing FV_USM dataset for test split.\n",
      "100%|██████████| 1181/1181 [00:09<00:00, 128.39it/s]\n",
      "2023-08-22 14:37:16,608 - root - INFO - Preprocessing FV_USM dataset for validation split.\n",
      "100%|██████████| 591/591 [00:04<00:00, 132.83it/s]\n",
      "2023-08-22 14:37:21,060 - root - INFO - Concatenating train set\n",
      "2023-08-22 14:37:21,060 - root - INFO - Concatenating test set\n",
      "2023-08-22 14:37:21,061 - root - INFO - Concatenating validation set\n"
     ]
    }
   ],
   "source": [
    "from common.data_pipeline.MMCBNU_6000.dataset import DatasetLoader as mmcbnu\n",
    "from common.data_pipeline.FV_USM.dataset import DatasetLoader as fvusm\n",
    "from common.util.data_pipeline.dataset_chainer import DatasetChainer\n",
    "from common.util.enums import EnvironmentType\n",
    "\n",
    "datasets = DatasetChainer(datasets=[mmcbnu(included_portion=1), fvusm(included_portion=1)])\n",
    "train, test, validation = datasets.get_dataset(EnvironmentType.PYTORCH)"
   ]
  },
  {
   "cell_type": "code",
   "execution_count": null,
   "metadata": {},
   "outputs": [],
   "source": [
    "from common.util.enums import DatasetSplitType\n",
    "\n",
    "\n",
    "datasets.get_files(DatasetSplitType.TRAIN)"
   ]
  }
 ],
 "metadata": {
  "kernelspec": {
   "display_name": "dl-tf",
   "language": "python",
   "name": "python3"
  },
  "language_info": {
   "codemirror_mode": {
    "name": "ipython",
    "version": 3
   },
   "file_extension": ".py",
   "mimetype": "text/x-python",
   "name": "python",
   "nbconvert_exporter": "python",
   "pygments_lexer": "ipython3",
   "version": "3.11.4"
  },
  "orig_nbformat": 4
 },
 "nbformat": 4,
 "nbformat_minor": 2
}
