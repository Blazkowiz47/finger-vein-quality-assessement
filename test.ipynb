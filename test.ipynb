{
 "cells": [
  {
   "cell_type": "code",
   "execution_count": null,
   "metadata": {},
   "outputs": [],
   "source": [
    "import torch\n",
    "\n",
    "device = torch.device(\"cuda\" if torch.cuda.is_available() else \"cpu\")\n",
    "print(\"Using device:\", device)\n",
    "\n",
    "# Additional Info when using cuda\n",
    "if device.type == \"cuda\":\n",
    "    print(torch.cuda.get_device_name(0))\n",
    "    print(\"Memory Usage:\")\n",
    "    print(\"Allocated:\", round(torch.cuda.memory_allocated(0) / 1024**3, 1), \"GB\")\n",
    "    print(\"Cached:   \", round(torch.cuda.memory_reserved(0) / 1024**3, 1), \"GB\")\n",
    "\n",
    "# To watch nvidia-smi continuously after every 2 seconds: watch -n 2 nvidia-smi"
   ]
  },
  {
   "cell_type": "code",
   "execution_count": null,
   "metadata": {},
   "outputs": [],
   "source": [
    "BATCH_SIZE = 20\n",
    "EPOCHS = 20"
   ]
  },
  {
   "cell_type": "code",
   "execution_count": null,
   "metadata": {},
   "outputs": [],
   "source": [
    "from common.data_pipeline.MMCBNU_6000.dataset import DatasetLoader as mmcbnu\n",
    "from common.data_pipeline.FV_USM.dataset import DatasetLoader as fvusm\n",
    "from common.util.data_pipeline.dataset_chainer import DatasetChainer\n",
    "from common.util.enums import EnvironmentType\n",
    "\n",
    "environment = EnvironmentType.PYTORCH\n",
    "datasets = DatasetChainer(\n",
    "    datasets=[\n",
    "        mmcbnu(included_portion=1, environment_type=environment),\n",
    "        fvusm(included_portion=0, environment_type=environment),\n",
    "    ]\n",
    ")\n",
    "train, test, validation = datasets.get_dataset(environment, batch_size=BATCH_SIZE)"
   ]
  },
  {
   "cell_type": "code",
   "execution_count": null,
   "metadata": {},
   "outputs": [],
   "source": [
    "image, labels = train.dataset.data\n",
    "print(image.shape, labels.shape)"
   ]
  },
  {
   "cell_type": "code",
   "execution_count": null,
   "metadata": {},
   "outputs": [],
   "source": [
    "from common.util.enums import DatasetSplitType\n",
    "\n",
    "\n",
    "# datasets.get_files(DatasetSplitType.TRAIN)"
   ]
  },
  {
   "cell_type": "code",
   "execution_count": null,
   "metadata": {},
   "outputs": [],
   "source": [
    "from common.train_pipeline.isotropic_vig import isotropic_vig_ti_224_gelu\n",
    "\n",
    "model = isotropic_vig_ti_224_gelu()\n",
    "model.to(device)\n",
    "print()\n",
    "# print(model)"
   ]
  },
  {
   "cell_type": "code",
   "execution_count": null,
   "metadata": {},
   "outputs": [],
   "source": [
    "import torch.optim as optim\n",
    "import torch.nn as nn\n",
    "import torch\n",
    "from tqdm import tqdm\n",
    "\n",
    "optimizer = optim.Adam(model.parameters(), lr=0.001)\n",
    "jsd = None\n",
    "mixup_active = None\n",
    "\n",
    "train_loss_fn = nn.CrossEntropyLoss().cuda()\n",
    "validate_loss_fn = nn.CrossEntropyLoss().cuda()\n",
    "\n",
    "# Training loop\n",
    "for epoch in range(EPOCHS):\n",
    "    model.train()\n",
    "    for inputs, labels in tqdm(train, desc=f\"Epoch {epoch}: \"):\n",
    "        inputs = inputs.float().to(device)\n",
    "        labels = labels.float().to(device)\n",
    "        optimizer.zero_grad()\n",
    "        outputs = model(inputs)\n",
    "        loss = train_loss_fn(outputs, labels)\n",
    "        loss.backward()\n",
    "        optimizer.step()\n",
    "\n",
    "    model.eval()\n",
    "    val_loss = 0.0\n",
    "    correct = 0\n",
    "    total = 0\n",
    "    with torch.no_grad():\n",
    "        for inputs, labels in validation:\n",
    "            inputs = inputs.float().to(device)\n",
    "            labels = labels.float().to(device)\n",
    "            outputs = model(inputs)\n",
    "            val_loss += validate_loss_fn(outputs, labels)\n",
    "            predicted = (outputs == outputs.max()).float()\n",
    "            total += labels.size(0)\n",
    "\n",
    "            correct += (predicted & labels).sum().item()\n",
    "\n",
    "    print(\n",
    "        f\"Epoch [{epoch+1}/{EPOCHS}], Loss: {loss.item():.4f}, Val Loss: {val_loss.item():.4f}, Accuracy: {(correct/total)*100:.2f}%\"\n",
    "    )\n",
    "model.train()"
   ]
  },
  {
   "cell_type": "code",
   "execution_count": null,
   "metadata": {},
   "outputs": [],
   "source": [
    "import cv2\n",
    "import matplotlib.pyplot as plt\n",
    "import numpy as np\n",
    "\n",
    "image_path = \"./datasets/MMCBNU_6000/ROIs/084/L_Fore/02.bmp\"\n",
    "image = cv2.imread(image_path, cv2.IMREAD_GRAYSCALE)\n",
    "plt.imshow(image, cmap=\"gray\")\n",
    "plt.show()\n",
    "res_img = cv2.resize(image, (120, 60))\n",
    "plt.imshow(res_img, cmap=\"gray\")\n",
    "plt.show()"
   ]
  },
  {
   "cell_type": "code",
   "execution_count": null,
   "metadata": {},
   "outputs": [],
   "source": []
  }
 ],
 "metadata": {
  "kernelspec": {
   "display_name": "dl-tf",
   "language": "python",
   "name": "python3"
  },
  "language_info": {
   "codemirror_mode": {
    "name": "ipython",
    "version": 3
   },
   "file_extension": ".py",
   "mimetype": "text/x-python",
   "name": "python",
   "nbconvert_exporter": "python",
   "pygments_lexer": "ipython3",
   "version": "3.8.17"
  },
  "orig_nbformat": 4
 },
 "nbformat": 4,
 "nbformat_minor": 2
}
