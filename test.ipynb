{
 "cells": [
  {
   "cell_type": "code",
   "execution_count": 1,
   "metadata": {},
   "outputs": [
    {
     "name": "stdout",
     "output_type": "stream",
     "text": [
      "Using device: cuda\n",
      "NVIDIA GeForce GTX 1050 Ti\n",
      "Memory Usage:\n",
      "Allocated: 0.0 GB\n",
      "Cached:    0.0 GB\n"
     ]
    }
   ],
   "source": [
    "import torch\n",
    "\n",
    "device = torch.device(\"cuda\" if torch.cuda.is_available() else \"cpu\")\n",
    "print(\"Using device:\", device)\n",
    "\n",
    "# Additional Info when using cuda\n",
    "if device.type == \"cuda\":\n",
    "    print(torch.cuda.get_device_name(0))\n",
    "    print(\"Memory Usage:\")\n",
    "    print(\"Allocated:\", round(torch.cuda.memory_allocated(0) / 1024**3, 1), \"GB\")\n",
    "    print(\"Cached:   \", round(torch.cuda.memory_reserved(0) / 1024**3, 1), \"GB\")\n",
    "\n",
    "# To watch nvidia-smi continuously after every 2 seconds: watch -n 2 nvidia-smi"
   ]
  },
  {
   "cell_type": "code",
   "execution_count": 2,
   "metadata": {},
   "outputs": [
    {
     "name": "stderr",
     "output_type": "stream",
     "text": [
      "2023-09-08 16:32:31,916 - root - INFO - Preprocessing MMCBNU6000 dataset for train split.\n",
      "100%|██████████| 4200/4200 [00:00<00:00, 4743.11it/s]\n",
      "2023-09-08 16:32:32,914 - root - INFO - Preprocessing MMCBNU6000 dataset for test split.\n",
      "100%|██████████| 1200/1200 [00:00<00:00, 4604.13it/s]\n",
      "2023-09-08 16:32:33,207 - root - INFO - Preprocessing MMCBNU6000 dataset for validation split.\n",
      "100%|██████████| 600/600 [00:00<00:00, 4940.08it/s]\n",
      "2023-09-08 16:32:33,356 - root - INFO - Preprocessing FV_USM dataset for train split.\n",
      "0it [00:00, ?it/s]\n",
      "2023-09-08 16:32:33,361 - root - INFO - Preprocessing FV_USM dataset for test split.\n",
      "0it [00:00, ?it/s]\n",
      "2023-09-08 16:32:33,363 - root - INFO - Preprocessing FV_USM dataset for validation split.\n",
      "0it [00:00, ?it/s]\n",
      "2023-09-08 16:32:33,365 - root - INFO - Concatenating train set\n",
      "2023-09-08 16:32:33,432 - root - INFO - Concatenating test set\n",
      "2023-09-08 16:32:33,459 - root - INFO - Concatenating validation set\n"
     ]
    }
   ],
   "source": [
    "from common.data_pipeline.MMCBNU_6000.dataset import DatasetLoader as mmcbnu\n",
    "from common.data_pipeline.FV_USM.dataset import DatasetLoader as fvusm\n",
    "from common.util.data_pipeline.dataset_chainer import DatasetChainer\n",
    "from common.util.enums import EnvironmentType\n",
    "\n",
    "environment = EnvironmentType.PYTORCH\n",
    "datasets = DatasetChainer(\n",
    "    datasets=[\n",
    "        mmcbnu(included_portion=1, environment_type=environment),\n",
    "        fvusm(included_portion=0, environment_type=environment),\n",
    "    ]\n",
    ")\n",
    "train, test, validation = datasets.get_dataset(environment, batch_size=10)"
   ]
  },
  {
   "cell_type": "code",
   "execution_count": 3,
   "metadata": {},
   "outputs": [
    {
     "name": "stdout",
     "output_type": "stream",
     "text": [
      "(4200, 1, 60, 120) (4200, 100)\n"
     ]
    }
   ],
   "source": [
    "image, labels = train.dataset.data\n",
    "print(image.shape, labels.shape)"
   ]
  },
  {
   "cell_type": "code",
   "execution_count": 4,
   "metadata": {},
   "outputs": [],
   "source": [
    "from common.util.enums import DatasetSplitType\n",
    "\n",
    "\n",
    "# datasets.get_files(DatasetSplitType.TRAIN)"
   ]
  },
  {
   "cell_type": "code",
   "execution_count": 5,
   "metadata": {},
   "outputs": [
    {
     "name": "stderr",
     "output_type": "stream",
     "text": [
      "c:\\Users\\sushr\\.conda\\envs\\dl-torch\\lib\\site-packages\\tqdm\\auto.py:21: TqdmWarning: IProgress not found. Please update jupyter and ipywidgets. See https://ipywidgets.readthedocs.io/en/stable/user_install.html\n",
      "  from .autonotebook import tqdm as notebook_tqdm\n"
     ]
    },
    {
     "name": "stdout",
     "output_type": "stream",
     "text": [
      "dpr [0.0, 0.0, 0.0, 0.0, 0.0, 0.0, 0.0, 0.0, 0.0, 0.0, 0.0, 0.0]\n",
      "num_knn [9, 9, 10, 11, 12, 13, 13, 14, 15, 16, 17, 18]\n",
      "\n"
     ]
    }
   ],
   "source": [
    "from common.train_pipeline.isotropic_vig import isotropic_vig_ti_224_gelu\n",
    "\n",
    "model = isotropic_vig_ti_224_gelu()\n",
    "model.to(\"cuda\")\n",
    "print()\n",
    "# print(model)"
   ]
  },
  {
   "cell_type": "code",
   "execution_count": 6,
   "metadata": {},
   "outputs": [
    {
     "name": "stderr",
     "output_type": "stream",
     "text": [
      "Epoch 0:   0%|          | 0/420 [00:00<?, ?it/s]"
     ]
    },
    {
     "name": "stderr",
     "output_type": "stream",
     "text": [
      "Epoch 0: 100%|██████████| 420/420 [00:42<00:00,  9.87it/s]\n"
     ]
    },
    {
     "name": "stdout",
     "output_type": "stream",
     "text": [
      "Epoch [1/20], Loss: 2.1385, Val Loss: 784.8433, Accuracy: 9219.00%\n"
     ]
    },
    {
     "name": "stderr",
     "output_type": "stream",
     "text": [
      "Epoch 1: 100%|██████████| 420/420 [00:39<00:00, 10.62it/s]\n"
     ]
    },
    {
     "name": "stdout",
     "output_type": "stream",
     "text": [
      "Epoch [2/20], Loss: 2.0890, Val Loss: 952.3834, Accuracy: 9224.00%\n"
     ]
    },
    {
     "name": "stderr",
     "output_type": "stream",
     "text": [
      "Epoch 2: 100%|██████████| 420/420 [00:39<00:00, 10.64it/s]\n"
     ]
    },
    {
     "name": "stdout",
     "output_type": "stream",
     "text": [
      "Epoch [3/20], Loss: 2.1149, Val Loss: 932.7479, Accuracy: 9243.33%\n"
     ]
    },
    {
     "name": "stderr",
     "output_type": "stream",
     "text": [
      "Epoch 3: 100%|██████████| 420/420 [00:40<00:00, 10.41it/s]\n"
     ]
    },
    {
     "name": "stdout",
     "output_type": "stream",
     "text": [
      "Epoch [4/20], Loss: 1.9498, Val Loss: 1122.8969, Accuracy: 9201.17%\n"
     ]
    },
    {
     "name": "stderr",
     "output_type": "stream",
     "text": [
      "Epoch 4: 100%|██████████| 420/420 [00:41<00:00, 10.16it/s]\n"
     ]
    },
    {
     "name": "stdout",
     "output_type": "stream",
     "text": [
      "Epoch [5/20], Loss: 1.9690, Val Loss: 947.0005, Accuracy: 9200.00%\n"
     ]
    },
    {
     "name": "stderr",
     "output_type": "stream",
     "text": [
      "Epoch 5: 100%|██████████| 420/420 [00:42<00:00,  9.90it/s]\n"
     ]
    },
    {
     "name": "stdout",
     "output_type": "stream",
     "text": [
      "Epoch [6/20], Loss: 2.0535, Val Loss: 1185.7262, Accuracy: 9200.00%\n"
     ]
    },
    {
     "name": "stderr",
     "output_type": "stream",
     "text": [
      "Epoch 6: 100%|██████████| 420/420 [00:43<00:00,  9.62it/s]\n"
     ]
    },
    {
     "name": "stdout",
     "output_type": "stream",
     "text": [
      "Epoch [7/20], Loss: 2.0012, Val Loss: 1013.3354, Accuracy: 9200.83%\n"
     ]
    },
    {
     "name": "stderr",
     "output_type": "stream",
     "text": [
      "Epoch 7: 100%|██████████| 420/420 [00:43<00:00,  9.73it/s]\n"
     ]
    },
    {
     "name": "stdout",
     "output_type": "stream",
     "text": [
      "Epoch [8/20], Loss: 1.9737, Val Loss: 971.6207, Accuracy: 9204.33%\n"
     ]
    },
    {
     "name": "stderr",
     "output_type": "stream",
     "text": [
      "Epoch 8: 100%|██████████| 420/420 [00:44<00:00,  9.51it/s]\n"
     ]
    },
    {
     "name": "stdout",
     "output_type": "stream",
     "text": [
      "Epoch [9/20], Loss: 1.9730, Val Loss: 1169.0549, Accuracy: 9203.67%\n"
     ]
    },
    {
     "name": "stderr",
     "output_type": "stream",
     "text": [
      "Epoch 9: 100%|██████████| 420/420 [00:44<00:00,  9.50it/s]\n"
     ]
    },
    {
     "name": "stdout",
     "output_type": "stream",
     "text": [
      "Epoch [10/20], Loss: 2.0961, Val Loss: 1413.1934, Accuracy: 9202.00%\n"
     ]
    },
    {
     "name": "stderr",
     "output_type": "stream",
     "text": [
      "Epoch 10: 100%|██████████| 420/420 [00:44<00:00,  9.48it/s]\n"
     ]
    },
    {
     "name": "stdout",
     "output_type": "stream",
     "text": [
      "Epoch [11/20], Loss: 2.0994, Val Loss: 1834.4760, Accuracy: 9200.00%\n"
     ]
    },
    {
     "name": "stderr",
     "output_type": "stream",
     "text": [
      "Epoch 11: 100%|██████████| 420/420 [00:44<00:00,  9.41it/s]\n"
     ]
    },
    {
     "name": "stdout",
     "output_type": "stream",
     "text": [
      "Epoch [12/20], Loss: 2.1390, Val Loss: 1661.8650, Accuracy: 9204.83%\n"
     ]
    },
    {
     "name": "stderr",
     "output_type": "stream",
     "text": [
      "Epoch 12: 100%|██████████| 420/420 [00:45<00:00,  9.31it/s]\n"
     ]
    },
    {
     "name": "stdout",
     "output_type": "stream",
     "text": [
      "Epoch [13/20], Loss: 2.1152, Val Loss: 1686.6022, Accuracy: 9202.00%\n"
     ]
    },
    {
     "name": "stderr",
     "output_type": "stream",
     "text": [
      "Epoch 13: 100%|██████████| 420/420 [00:45<00:00,  9.29it/s]\n"
     ]
    },
    {
     "name": "stdout",
     "output_type": "stream",
     "text": [
      "Epoch [14/20], Loss: 2.0708, Val Loss: 1346.5054, Accuracy: 9202.50%\n"
     ]
    },
    {
     "name": "stderr",
     "output_type": "stream",
     "text": [
      "Epoch 14: 100%|██████████| 420/420 [00:44<00:00,  9.35it/s]\n"
     ]
    },
    {
     "name": "stdout",
     "output_type": "stream",
     "text": [
      "Epoch [15/20], Loss: 2.0423, Val Loss: 1150.4292, Accuracy: 9214.17%\n"
     ]
    },
    {
     "name": "stderr",
     "output_type": "stream",
     "text": [
      "Epoch 15: 100%|██████████| 420/420 [00:45<00:00,  9.31it/s]\n"
     ]
    },
    {
     "name": "stdout",
     "output_type": "stream",
     "text": [
      "Epoch [16/20], Loss: 1.9902, Val Loss: 1118.4386, Accuracy: 9207.67%\n"
     ]
    },
    {
     "name": "stderr",
     "output_type": "stream",
     "text": [
      "Epoch 16: 100%|██████████| 420/420 [00:45<00:00,  9.19it/s]\n"
     ]
    },
    {
     "name": "stdout",
     "output_type": "stream",
     "text": [
      "Epoch [17/20], Loss: 1.9743, Val Loss: 1834.3138, Accuracy: 9203.50%\n"
     ]
    },
    {
     "name": "stderr",
     "output_type": "stream",
     "text": [
      "Epoch 17: 100%|██████████| 420/420 [00:46<00:00,  9.10it/s]\n"
     ]
    },
    {
     "name": "stdout",
     "output_type": "stream",
     "text": [
      "Epoch [18/20], Loss: 1.9390, Val Loss: 1823.7092, Accuracy: 9201.50%\n"
     ]
    },
    {
     "name": "stderr",
     "output_type": "stream",
     "text": [
      "Epoch 18: 100%|██████████| 420/420 [00:45<00:00,  9.21it/s]\n"
     ]
    },
    {
     "name": "stdout",
     "output_type": "stream",
     "text": [
      "Epoch [19/20], Loss: 1.9516, Val Loss: 1219.2723, Accuracy: 9211.00%\n"
     ]
    },
    {
     "name": "stderr",
     "output_type": "stream",
     "text": [
      "Epoch 19: 100%|██████████| 420/420 [00:46<00:00,  9.08it/s]\n"
     ]
    },
    {
     "name": "stdout",
     "output_type": "stream",
     "text": [
      "Epoch [20/20], Loss: 2.0164, Val Loss: 1373.1365, Accuracy: 9232.83%\n"
     ]
    },
    {
     "data": {
      "text/plain": [
       "IsoTropicVIG(\n",
       "  (stem): Stem(\n",
       "    (stem): Sequential(\n",
       "      (0): Conv2d(1, 32, kernel_size=(3, 3), stride=(2, 2), padding=(1, 1))\n",
       "      (1): BatchNorm2d(32, eps=1e-05, momentum=0.1, affine=True, track_running_stats=True)\n",
       "      (2): GELU(approximate='none')\n",
       "      (3): Conv2d(32, 64, kernel_size=(3, 3), stride=(2, 2), padding=(1, 1))\n",
       "      (4): BatchNorm2d(64, eps=1e-05, momentum=0.1, affine=True, track_running_stats=True)\n",
       "      (5): GELU(approximate='none')\n",
       "      (6): Conv2d(64, 128, kernel_size=(3, 3), stride=(2, 2), padding=(1, 1))\n",
       "      (7): BatchNorm2d(128, eps=1e-05, momentum=0.1, affine=True, track_running_stats=True)\n",
       "      (8): GELU(approximate='none')\n",
       "      (9): Conv2d(128, 256, kernel_size=(3, 3), stride=(2, 2), padding=(1, 1))\n",
       "      (10): BatchNorm2d(256, eps=1e-05, momentum=0.1, affine=True, track_running_stats=True)\n",
       "      (11): GELU(approximate='none')\n",
       "      (12): Conv2d(256, 256, kernel_size=(3, 3), stride=(1, 1), padding=(1, 1))\n",
       "      (13): BatchNorm2d(256, eps=1e-05, momentum=0.1, affine=True, track_running_stats=True)\n",
       "    )\n",
       "  )\n",
       "  (backbone): IsotropicBackBone(\n",
       "    (backbone): Sequential(\n",
       "      (0): Sequential(\n",
       "        (0): Grapher(\n",
       "          (fc1): Sequential(\n",
       "            (0): Conv2d(256, 256, kernel_size=(1, 1), stride=(1, 1))\n",
       "            (1): BatchNorm2d(256, eps=1e-05, momentum=0.1, affine=True, track_running_stats=True)\n",
       "          )\n",
       "          (graph_conv): DyGraphConv2d(\n",
       "            (gconv): MRConv2d(\n",
       "              (nn): BasicConv(\n",
       "                (0): Conv2d(512, 512, kernel_size=(1, 1), stride=(1, 1), groups=4)\n",
       "                (1): BatchNorm2d(512, eps=1e-05, momentum=0.1, affine=True, track_running_stats=True)\n",
       "                (2): GELU(approximate='none')\n",
       "              )\n",
       "            )\n",
       "            (dilated_knn_graph): DenseDilatedKnnGraph(\n",
       "              (_dilated): DenseDilated()\n",
       "            )\n",
       "          )\n",
       "          (fc2): Sequential(\n",
       "            (0): Conv2d(512, 256, kernel_size=(1, 1), stride=(1, 1))\n",
       "            (1): BatchNorm2d(256, eps=1e-05, momentum=0.1, affine=True, track_running_stats=True)\n",
       "          )\n",
       "          (drop_path): Identity()\n",
       "        )\n",
       "        (1): FFN(\n",
       "          (fc1): Sequential(\n",
       "            (0): Conv2d(256, 1024, kernel_size=(1, 1), stride=(1, 1))\n",
       "            (1): BatchNorm2d(1024, eps=1e-05, momentum=0.1, affine=True, track_running_stats=True)\n",
       "          )\n",
       "          (act): GELU(approximate='none')\n",
       "          (fc2): Sequential(\n",
       "            (0): Conv2d(1024, 256, kernel_size=(1, 1), stride=(1, 1))\n",
       "            (1): BatchNorm2d(256, eps=1e-05, momentum=0.1, affine=True, track_running_stats=True)\n",
       "          )\n",
       "          (drop_path): Identity()\n",
       "        )\n",
       "      )\n",
       "      (1): Sequential(\n",
       "        (0): Grapher(\n",
       "          (fc1): Sequential(\n",
       "            (0): Conv2d(256, 256, kernel_size=(1, 1), stride=(1, 1))\n",
       "            (1): BatchNorm2d(256, eps=1e-05, momentum=0.1, affine=True, track_running_stats=True)\n",
       "          )\n",
       "          (graph_conv): DyGraphConv2d(\n",
       "            (gconv): MRConv2d(\n",
       "              (nn): BasicConv(\n",
       "                (0): Conv2d(512, 512, kernel_size=(1, 1), stride=(1, 1), groups=4)\n",
       "                (1): BatchNorm2d(512, eps=1e-05, momentum=0.1, affine=True, track_running_stats=True)\n",
       "                (2): GELU(approximate='none')\n",
       "              )\n",
       "            )\n",
       "            (dilated_knn_graph): DenseDilatedKnnGraph(\n",
       "              (_dilated): DenseDilated()\n",
       "            )\n",
       "          )\n",
       "          (fc2): Sequential(\n",
       "            (0): Conv2d(512, 256, kernel_size=(1, 1), stride=(1, 1))\n",
       "            (1): BatchNorm2d(256, eps=1e-05, momentum=0.1, affine=True, track_running_stats=True)\n",
       "          )\n",
       "          (drop_path): Identity()\n",
       "        )\n",
       "        (1): FFN(\n",
       "          (fc1): Sequential(\n",
       "            (0): Conv2d(256, 1024, kernel_size=(1, 1), stride=(1, 1))\n",
       "            (1): BatchNorm2d(1024, eps=1e-05, momentum=0.1, affine=True, track_running_stats=True)\n",
       "          )\n",
       "          (act): GELU(approximate='none')\n",
       "          (fc2): Sequential(\n",
       "            (0): Conv2d(1024, 256, kernel_size=(1, 1), stride=(1, 1))\n",
       "            (1): BatchNorm2d(256, eps=1e-05, momentum=0.1, affine=True, track_running_stats=True)\n",
       "          )\n",
       "          (drop_path): Identity()\n",
       "        )\n",
       "      )\n",
       "      (2): Sequential(\n",
       "        (0): Grapher(\n",
       "          (fc1): Sequential(\n",
       "            (0): Conv2d(256, 256, kernel_size=(1, 1), stride=(1, 1))\n",
       "            (1): BatchNorm2d(256, eps=1e-05, momentum=0.1, affine=True, track_running_stats=True)\n",
       "          )\n",
       "          (graph_conv): DyGraphConv2d(\n",
       "            (gconv): MRConv2d(\n",
       "              (nn): BasicConv(\n",
       "                (0): Conv2d(512, 512, kernel_size=(1, 1), stride=(1, 1), groups=4)\n",
       "                (1): BatchNorm2d(512, eps=1e-05, momentum=0.1, affine=True, track_running_stats=True)\n",
       "                (2): GELU(approximate='none')\n",
       "              )\n",
       "            )\n",
       "            (dilated_knn_graph): DenseDilatedKnnGraph(\n",
       "              (_dilated): DenseDilated()\n",
       "            )\n",
       "          )\n",
       "          (fc2): Sequential(\n",
       "            (0): Conv2d(512, 256, kernel_size=(1, 1), stride=(1, 1))\n",
       "            (1): BatchNorm2d(256, eps=1e-05, momentum=0.1, affine=True, track_running_stats=True)\n",
       "          )\n",
       "          (drop_path): Identity()\n",
       "        )\n",
       "        (1): FFN(\n",
       "          (fc1): Sequential(\n",
       "            (0): Conv2d(256, 1024, kernel_size=(1, 1), stride=(1, 1))\n",
       "            (1): BatchNorm2d(1024, eps=1e-05, momentum=0.1, affine=True, track_running_stats=True)\n",
       "          )\n",
       "          (act): GELU(approximate='none')\n",
       "          (fc2): Sequential(\n",
       "            (0): Conv2d(1024, 256, kernel_size=(1, 1), stride=(1, 1))\n",
       "            (1): BatchNorm2d(256, eps=1e-05, momentum=0.1, affine=True, track_running_stats=True)\n",
       "          )\n",
       "          (drop_path): Identity()\n",
       "        )\n",
       "      )\n",
       "      (3): Sequential(\n",
       "        (0): Grapher(\n",
       "          (fc1): Sequential(\n",
       "            (0): Conv2d(256, 256, kernel_size=(1, 1), stride=(1, 1))\n",
       "            (1): BatchNorm2d(256, eps=1e-05, momentum=0.1, affine=True, track_running_stats=True)\n",
       "          )\n",
       "          (graph_conv): DyGraphConv2d(\n",
       "            (gconv): MRConv2d(\n",
       "              (nn): BasicConv(\n",
       "                (0): Conv2d(512, 512, kernel_size=(1, 1), stride=(1, 1), groups=4)\n",
       "                (1): BatchNorm2d(512, eps=1e-05, momentum=0.1, affine=True, track_running_stats=True)\n",
       "                (2): GELU(approximate='none')\n",
       "              )\n",
       "            )\n",
       "            (dilated_knn_graph): DenseDilatedKnnGraph(\n",
       "              (_dilated): DenseDilated()\n",
       "            )\n",
       "          )\n",
       "          (fc2): Sequential(\n",
       "            (0): Conv2d(512, 256, kernel_size=(1, 1), stride=(1, 1))\n",
       "            (1): BatchNorm2d(256, eps=1e-05, momentum=0.1, affine=True, track_running_stats=True)\n",
       "          )\n",
       "          (drop_path): Identity()\n",
       "        )\n",
       "        (1): FFN(\n",
       "          (fc1): Sequential(\n",
       "            (0): Conv2d(256, 1024, kernel_size=(1, 1), stride=(1, 1))\n",
       "            (1): BatchNorm2d(1024, eps=1e-05, momentum=0.1, affine=True, track_running_stats=True)\n",
       "          )\n",
       "          (act): GELU(approximate='none')\n",
       "          (fc2): Sequential(\n",
       "            (0): Conv2d(1024, 256, kernel_size=(1, 1), stride=(1, 1))\n",
       "            (1): BatchNorm2d(256, eps=1e-05, momentum=0.1, affine=True, track_running_stats=True)\n",
       "          )\n",
       "          (drop_path): Identity()\n",
       "        )\n",
       "      )\n",
       "      (4): Sequential(\n",
       "        (0): Grapher(\n",
       "          (fc1): Sequential(\n",
       "            (0): Conv2d(256, 256, kernel_size=(1, 1), stride=(1, 1))\n",
       "            (1): BatchNorm2d(256, eps=1e-05, momentum=0.1, affine=True, track_running_stats=True)\n",
       "          )\n",
       "          (graph_conv): DyGraphConv2d(\n",
       "            (gconv): MRConv2d(\n",
       "              (nn): BasicConv(\n",
       "                (0): Conv2d(512, 512, kernel_size=(1, 1), stride=(1, 1), groups=4)\n",
       "                (1): BatchNorm2d(512, eps=1e-05, momentum=0.1, affine=True, track_running_stats=True)\n",
       "                (2): GELU(approximate='none')\n",
       "              )\n",
       "            )\n",
       "            (dilated_knn_graph): DenseDilatedKnnGraph(\n",
       "              (_dilated): DenseDilated()\n",
       "            )\n",
       "          )\n",
       "          (fc2): Sequential(\n",
       "            (0): Conv2d(512, 256, kernel_size=(1, 1), stride=(1, 1))\n",
       "            (1): BatchNorm2d(256, eps=1e-05, momentum=0.1, affine=True, track_running_stats=True)\n",
       "          )\n",
       "          (drop_path): Identity()\n",
       "        )\n",
       "        (1): FFN(\n",
       "          (fc1): Sequential(\n",
       "            (0): Conv2d(256, 1024, kernel_size=(1, 1), stride=(1, 1))\n",
       "            (1): BatchNorm2d(1024, eps=1e-05, momentum=0.1, affine=True, track_running_stats=True)\n",
       "          )\n",
       "          (act): GELU(approximate='none')\n",
       "          (fc2): Sequential(\n",
       "            (0): Conv2d(1024, 256, kernel_size=(1, 1), stride=(1, 1))\n",
       "            (1): BatchNorm2d(256, eps=1e-05, momentum=0.1, affine=True, track_running_stats=True)\n",
       "          )\n",
       "          (drop_path): Identity()\n",
       "        )\n",
       "      )\n",
       "      (5): Sequential(\n",
       "        (0): Grapher(\n",
       "          (fc1): Sequential(\n",
       "            (0): Conv2d(256, 256, kernel_size=(1, 1), stride=(1, 1))\n",
       "            (1): BatchNorm2d(256, eps=1e-05, momentum=0.1, affine=True, track_running_stats=True)\n",
       "          )\n",
       "          (graph_conv): DyGraphConv2d(\n",
       "            (gconv): MRConv2d(\n",
       "              (nn): BasicConv(\n",
       "                (0): Conv2d(512, 512, kernel_size=(1, 1), stride=(1, 1), groups=4)\n",
       "                (1): BatchNorm2d(512, eps=1e-05, momentum=0.1, affine=True, track_running_stats=True)\n",
       "                (2): GELU(approximate='none')\n",
       "              )\n",
       "            )\n",
       "            (dilated_knn_graph): DenseDilatedKnnGraph(\n",
       "              (_dilated): DenseDilated()\n",
       "            )\n",
       "          )\n",
       "          (fc2): Sequential(\n",
       "            (0): Conv2d(512, 256, kernel_size=(1, 1), stride=(1, 1))\n",
       "            (1): BatchNorm2d(256, eps=1e-05, momentum=0.1, affine=True, track_running_stats=True)\n",
       "          )\n",
       "          (drop_path): Identity()\n",
       "        )\n",
       "        (1): FFN(\n",
       "          (fc1): Sequential(\n",
       "            (0): Conv2d(256, 1024, kernel_size=(1, 1), stride=(1, 1))\n",
       "            (1): BatchNorm2d(1024, eps=1e-05, momentum=0.1, affine=True, track_running_stats=True)\n",
       "          )\n",
       "          (act): GELU(approximate='none')\n",
       "          (fc2): Sequential(\n",
       "            (0): Conv2d(1024, 256, kernel_size=(1, 1), stride=(1, 1))\n",
       "            (1): BatchNorm2d(256, eps=1e-05, momentum=0.1, affine=True, track_running_stats=True)\n",
       "          )\n",
       "          (drop_path): Identity()\n",
       "        )\n",
       "      )\n",
       "      (6): Sequential(\n",
       "        (0): Grapher(\n",
       "          (fc1): Sequential(\n",
       "            (0): Conv2d(256, 256, kernel_size=(1, 1), stride=(1, 1))\n",
       "            (1): BatchNorm2d(256, eps=1e-05, momentum=0.1, affine=True, track_running_stats=True)\n",
       "          )\n",
       "          (graph_conv): DyGraphConv2d(\n",
       "            (gconv): MRConv2d(\n",
       "              (nn): BasicConv(\n",
       "                (0): Conv2d(512, 512, kernel_size=(1, 1), stride=(1, 1), groups=4)\n",
       "                (1): BatchNorm2d(512, eps=1e-05, momentum=0.1, affine=True, track_running_stats=True)\n",
       "                (2): GELU(approximate='none')\n",
       "              )\n",
       "            )\n",
       "            (dilated_knn_graph): DenseDilatedKnnGraph(\n",
       "              (_dilated): DenseDilated()\n",
       "            )\n",
       "          )\n",
       "          (fc2): Sequential(\n",
       "            (0): Conv2d(512, 256, kernel_size=(1, 1), stride=(1, 1))\n",
       "            (1): BatchNorm2d(256, eps=1e-05, momentum=0.1, affine=True, track_running_stats=True)\n",
       "          )\n",
       "          (drop_path): Identity()\n",
       "        )\n",
       "        (1): FFN(\n",
       "          (fc1): Sequential(\n",
       "            (0): Conv2d(256, 1024, kernel_size=(1, 1), stride=(1, 1))\n",
       "            (1): BatchNorm2d(1024, eps=1e-05, momentum=0.1, affine=True, track_running_stats=True)\n",
       "          )\n",
       "          (act): GELU(approximate='none')\n",
       "          (fc2): Sequential(\n",
       "            (0): Conv2d(1024, 256, kernel_size=(1, 1), stride=(1, 1))\n",
       "            (1): BatchNorm2d(256, eps=1e-05, momentum=0.1, affine=True, track_running_stats=True)\n",
       "          )\n",
       "          (drop_path): Identity()\n",
       "        )\n",
       "      )\n",
       "      (7): Sequential(\n",
       "        (0): Grapher(\n",
       "          (fc1): Sequential(\n",
       "            (0): Conv2d(256, 256, kernel_size=(1, 1), stride=(1, 1))\n",
       "            (1): BatchNorm2d(256, eps=1e-05, momentum=0.1, affine=True, track_running_stats=True)\n",
       "          )\n",
       "          (graph_conv): DyGraphConv2d(\n",
       "            (gconv): MRConv2d(\n",
       "              (nn): BasicConv(\n",
       "                (0): Conv2d(512, 512, kernel_size=(1, 1), stride=(1, 1), groups=4)\n",
       "                (1): BatchNorm2d(512, eps=1e-05, momentum=0.1, affine=True, track_running_stats=True)\n",
       "                (2): GELU(approximate='none')\n",
       "              )\n",
       "            )\n",
       "            (dilated_knn_graph): DenseDilatedKnnGraph(\n",
       "              (_dilated): DenseDilated()\n",
       "            )\n",
       "          )\n",
       "          (fc2): Sequential(\n",
       "            (0): Conv2d(512, 256, kernel_size=(1, 1), stride=(1, 1))\n",
       "            (1): BatchNorm2d(256, eps=1e-05, momentum=0.1, affine=True, track_running_stats=True)\n",
       "          )\n",
       "          (drop_path): Identity()\n",
       "        )\n",
       "        (1): FFN(\n",
       "          (fc1): Sequential(\n",
       "            (0): Conv2d(256, 1024, kernel_size=(1, 1), stride=(1, 1))\n",
       "            (1): BatchNorm2d(1024, eps=1e-05, momentum=0.1, affine=True, track_running_stats=True)\n",
       "          )\n",
       "          (act): GELU(approximate='none')\n",
       "          (fc2): Sequential(\n",
       "            (0): Conv2d(1024, 256, kernel_size=(1, 1), stride=(1, 1))\n",
       "            (1): BatchNorm2d(256, eps=1e-05, momentum=0.1, affine=True, track_running_stats=True)\n",
       "          )\n",
       "          (drop_path): Identity()\n",
       "        )\n",
       "      )\n",
       "      (8): Sequential(\n",
       "        (0): Grapher(\n",
       "          (fc1): Sequential(\n",
       "            (0): Conv2d(256, 256, kernel_size=(1, 1), stride=(1, 1))\n",
       "            (1): BatchNorm2d(256, eps=1e-05, momentum=0.1, affine=True, track_running_stats=True)\n",
       "          )\n",
       "          (graph_conv): DyGraphConv2d(\n",
       "            (gconv): MRConv2d(\n",
       "              (nn): BasicConv(\n",
       "                (0): Conv2d(512, 512, kernel_size=(1, 1), stride=(1, 1), groups=4)\n",
       "                (1): BatchNorm2d(512, eps=1e-05, momentum=0.1, affine=True, track_running_stats=True)\n",
       "                (2): GELU(approximate='none')\n",
       "              )\n",
       "            )\n",
       "            (dilated_knn_graph): DenseDilatedKnnGraph(\n",
       "              (_dilated): DenseDilated()\n",
       "            )\n",
       "          )\n",
       "          (fc2): Sequential(\n",
       "            (0): Conv2d(512, 256, kernel_size=(1, 1), stride=(1, 1))\n",
       "            (1): BatchNorm2d(256, eps=1e-05, momentum=0.1, affine=True, track_running_stats=True)\n",
       "          )\n",
       "          (drop_path): Identity()\n",
       "        )\n",
       "        (1): FFN(\n",
       "          (fc1): Sequential(\n",
       "            (0): Conv2d(256, 1024, kernel_size=(1, 1), stride=(1, 1))\n",
       "            (1): BatchNorm2d(1024, eps=1e-05, momentum=0.1, affine=True, track_running_stats=True)\n",
       "          )\n",
       "          (act): GELU(approximate='none')\n",
       "          (fc2): Sequential(\n",
       "            (0): Conv2d(1024, 256, kernel_size=(1, 1), stride=(1, 1))\n",
       "            (1): BatchNorm2d(256, eps=1e-05, momentum=0.1, affine=True, track_running_stats=True)\n",
       "          )\n",
       "          (drop_path): Identity()\n",
       "        )\n",
       "      )\n",
       "      (9): Sequential(\n",
       "        (0): Grapher(\n",
       "          (fc1): Sequential(\n",
       "            (0): Conv2d(256, 256, kernel_size=(1, 1), stride=(1, 1))\n",
       "            (1): BatchNorm2d(256, eps=1e-05, momentum=0.1, affine=True, track_running_stats=True)\n",
       "          )\n",
       "          (graph_conv): DyGraphConv2d(\n",
       "            (gconv): MRConv2d(\n",
       "              (nn): BasicConv(\n",
       "                (0): Conv2d(512, 512, kernel_size=(1, 1), stride=(1, 1), groups=4)\n",
       "                (1): BatchNorm2d(512, eps=1e-05, momentum=0.1, affine=True, track_running_stats=True)\n",
       "                (2): GELU(approximate='none')\n",
       "              )\n",
       "            )\n",
       "            (dilated_knn_graph): DenseDilatedKnnGraph(\n",
       "              (_dilated): DenseDilated()\n",
       "            )\n",
       "          )\n",
       "          (fc2): Sequential(\n",
       "            (0): Conv2d(512, 256, kernel_size=(1, 1), stride=(1, 1))\n",
       "            (1): BatchNorm2d(256, eps=1e-05, momentum=0.1, affine=True, track_running_stats=True)\n",
       "          )\n",
       "          (drop_path): Identity()\n",
       "        )\n",
       "        (1): FFN(\n",
       "          (fc1): Sequential(\n",
       "            (0): Conv2d(256, 1024, kernel_size=(1, 1), stride=(1, 1))\n",
       "            (1): BatchNorm2d(1024, eps=1e-05, momentum=0.1, affine=True, track_running_stats=True)\n",
       "          )\n",
       "          (act): GELU(approximate='none')\n",
       "          (fc2): Sequential(\n",
       "            (0): Conv2d(1024, 256, kernel_size=(1, 1), stride=(1, 1))\n",
       "            (1): BatchNorm2d(256, eps=1e-05, momentum=0.1, affine=True, track_running_stats=True)\n",
       "          )\n",
       "          (drop_path): Identity()\n",
       "        )\n",
       "      )\n",
       "      (10): Sequential(\n",
       "        (0): Grapher(\n",
       "          (fc1): Sequential(\n",
       "            (0): Conv2d(256, 256, kernel_size=(1, 1), stride=(1, 1))\n",
       "            (1): BatchNorm2d(256, eps=1e-05, momentum=0.1, affine=True, track_running_stats=True)\n",
       "          )\n",
       "          (graph_conv): DyGraphConv2d(\n",
       "            (gconv): MRConv2d(\n",
       "              (nn): BasicConv(\n",
       "                (0): Conv2d(512, 512, kernel_size=(1, 1), stride=(1, 1), groups=4)\n",
       "                (1): BatchNorm2d(512, eps=1e-05, momentum=0.1, affine=True, track_running_stats=True)\n",
       "                (2): GELU(approximate='none')\n",
       "              )\n",
       "            )\n",
       "            (dilated_knn_graph): DenseDilatedKnnGraph(\n",
       "              (_dilated): DenseDilated()\n",
       "            )\n",
       "          )\n",
       "          (fc2): Sequential(\n",
       "            (0): Conv2d(512, 256, kernel_size=(1, 1), stride=(1, 1))\n",
       "            (1): BatchNorm2d(256, eps=1e-05, momentum=0.1, affine=True, track_running_stats=True)\n",
       "          )\n",
       "          (drop_path): Identity()\n",
       "        )\n",
       "        (1): FFN(\n",
       "          (fc1): Sequential(\n",
       "            (0): Conv2d(256, 1024, kernel_size=(1, 1), stride=(1, 1))\n",
       "            (1): BatchNorm2d(1024, eps=1e-05, momentum=0.1, affine=True, track_running_stats=True)\n",
       "          )\n",
       "          (act): GELU(approximate='none')\n",
       "          (fc2): Sequential(\n",
       "            (0): Conv2d(1024, 256, kernel_size=(1, 1), stride=(1, 1))\n",
       "            (1): BatchNorm2d(256, eps=1e-05, momentum=0.1, affine=True, track_running_stats=True)\n",
       "          )\n",
       "          (drop_path): Identity()\n",
       "        )\n",
       "      )\n",
       "      (11): Sequential(\n",
       "        (0): Grapher(\n",
       "          (fc1): Sequential(\n",
       "            (0): Conv2d(256, 256, kernel_size=(1, 1), stride=(1, 1))\n",
       "            (1): BatchNorm2d(256, eps=1e-05, momentum=0.1, affine=True, track_running_stats=True)\n",
       "          )\n",
       "          (graph_conv): DyGraphConv2d(\n",
       "            (gconv): MRConv2d(\n",
       "              (nn): BasicConv(\n",
       "                (0): Conv2d(512, 512, kernel_size=(1, 1), stride=(1, 1), groups=4)\n",
       "                (1): BatchNorm2d(512, eps=1e-05, momentum=0.1, affine=True, track_running_stats=True)\n",
       "                (2): GELU(approximate='none')\n",
       "              )\n",
       "            )\n",
       "            (dilated_knn_graph): DenseDilatedKnnGraph(\n",
       "              (_dilated): DenseDilated()\n",
       "            )\n",
       "          )\n",
       "          (fc2): Sequential(\n",
       "            (0): Conv2d(512, 256, kernel_size=(1, 1), stride=(1, 1))\n",
       "            (1): BatchNorm2d(256, eps=1e-05, momentum=0.1, affine=True, track_running_stats=True)\n",
       "          )\n",
       "          (drop_path): Identity()\n",
       "        )\n",
       "        (1): FFN(\n",
       "          (fc1): Sequential(\n",
       "            (0): Conv2d(256, 1024, kernel_size=(1, 1), stride=(1, 1))\n",
       "            (1): BatchNorm2d(1024, eps=1e-05, momentum=0.1, affine=True, track_running_stats=True)\n",
       "          )\n",
       "          (act): GELU(approximate='none')\n",
       "          (fc2): Sequential(\n",
       "            (0): Conv2d(1024, 256, kernel_size=(1, 1), stride=(1, 1))\n",
       "            (1): BatchNorm2d(256, eps=1e-05, momentum=0.1, affine=True, track_running_stats=True)\n",
       "          )\n",
       "          (drop_path): Identity()\n",
       "        )\n",
       "      )\n",
       "    )\n",
       "  )\n",
       "  (predictor): Predictor(\n",
       "    (predictor): Sequential(\n",
       "      (0): Conv2d(256, 512, kernel_size=(1, 1), stride=(1, 1))\n",
       "      (1): BatchNorm2d(512, eps=1e-05, momentum=0.1, affine=True, track_running_stats=True)\n",
       "      (2): GELU(approximate='none')\n",
       "      (3): Dropout(p=0.0, inplace=False)\n",
       "      (4): Conv2d(512, 100, kernel_size=(1, 1), stride=(1, 1))\n",
       "    )\n",
       "  )\n",
       ")"
      ]
     },
     "execution_count": 6,
     "metadata": {},
     "output_type": "execute_result"
    }
   ],
   "source": [
    "import torch.optim as optim\n",
    "import torch.nn as nn\n",
    "import torch\n",
    "from tqdm import tqdm\n",
    "\n",
    "optimizer = optim.Adam(model.parameters(), lr=0.001)\n",
    "jsd = None\n",
    "mixup_active = None\n",
    "\n",
    "train_loss_fn = nn.CrossEntropyLoss().cuda()\n",
    "validate_loss_fn = nn.CrossEntropyLoss().cuda()\n",
    "\n",
    "# Training loop\n",
    "num_epochs = 20\n",
    "for epoch in range(num_epochs):\n",
    "    model.train()\n",
    "    for inputs, labels in tqdm(train, desc=f\"Epoch {epoch}: \"):\n",
    "        inputs = inputs.float().to(\"cuda\")\n",
    "        labels = labels.float().to(\"cuda\")\n",
    "        optimizer.zero_grad()\n",
    "        outputs = model(inputs)\n",
    "        loss = train_loss_fn(outputs, labels)\n",
    "        loss.backward()\n",
    "        optimizer.step()\n",
    "\n",
    "    model.eval()\n",
    "    val_loss = 0.0\n",
    "    correct = 0\n",
    "    total = 0\n",
    "    with torch.no_grad():\n",
    "        for inputs, labels in validation:\n",
    "            inputs = inputs.float().to(\"cuda\")\n",
    "            labels = labels.float().to(\"cuda\")\n",
    "            outputs = model(inputs)\n",
    "            val_loss += validate_loss_fn(outputs, labels)\n",
    "            predicted = (outputs > 0.8).float()\n",
    "            total += labels.size(0)\n",
    "            correct += (predicted == labels).sum().item()\n",
    "\n",
    "    print(\n",
    "        f\"Epoch [{epoch+1}/{num_epochs}], Loss: {loss.item():.4f}, Val Loss: {val_loss.item():.4f}, Accuracy: {(correct/total)*100:.2f}%\"\n",
    "    )\n",
    "model.train()"
   ]
  },
  {
   "cell_type": "code",
   "execution_count": 13,
   "metadata": {},
   "outputs": [
    {
     "data": {
      "image/png": "[encoded data removed]",
      "text/plain": [
       "<Figure size 640x480 with 1 Axes>"
      ]
     },
     "metadata": {},
     "output_type": "display_data"
    },
    {
     "data": {
      "image/png": "[encoded data removed]",
      "text/plain": [
       "<Figure size 640x480 with 1 Axes>"
      ]
     },
     "metadata": {},
     "output_type": "display_data"
    }
   ],
   "source": [
    "import cv2\n",
    "import matplotlib.pyplot as plt\n",
    "import numpy as np\n",
    "\n",
    "image_path = \"./datasets/MMCBNU_6000/ROIs/084/L_Fore/02.bmp\"\n",
    "image = cv2.imread(image_path, cv2.IMREAD_GRAYSCALE)\n",
    "plt.imshow(image, cmap=\"gray\")\n",
    "plt.show()\n",
    "res_img = cv2.resize(image, (120, 60))\n",
    "plt.imshow(res_img, cmap=\"gray\")\n",
    "plt.show()"
   ]
  },
  {
   "cell_type": "code",
   "execution_count": null,
   "metadata": {},
   "outputs": [],
   "source": []
  }
 ],
 "metadata": {
  "kernelspec": {
   "display_name": "dl-tf",
   "language": "python",
   "name": "python3"
  },
  "language_info": {
   "codemirror_mode": {
    "name": "ipython",
    "version": 3
   },
   "file_extension": ".py",
   "mimetype": "text/x-python",
   "name": "python",
   "nbconvert_exporter": "python",
   "pygments_lexer": "ipython3",
   "version": "3.8.17"
  },
  "orig_nbformat": 4
 },
 "nbformat": 4,
 "nbformat_minor": 2
}
