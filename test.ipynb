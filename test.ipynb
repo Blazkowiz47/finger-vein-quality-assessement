{
 "cells": [
  {
   "cell_type": "code",
   "execution_count": 1,
   "metadata": {},
   "outputs": [
    {
     "name": "stderr",
     "output_type": "stream",
     "text": [
      "2023-08-22 13:57:01,252 - root - INFO - Compiled train/test/validation split for MMCBNU6000\n",
      "2023-08-22 13:57:01,328 - root - INFO - Compiled train/test/validation split for FV_USM\n",
      "2023-08-22 13:57:01,328 - root - INFO - Concatenating train set\n",
      "2023-08-22 13:57:01,329 - root - INFO - Concatenating test set\n",
      "2023-08-22 13:57:01,330 - root - INFO - Concatenating validation set\n"
     ]
    }
   ],
   "source": [
    "from common.data_pipeline.dataset import DatasetChainer\n",
    "from common.data_pipeline.MMCBNU_6000.dataset import DatasetLoader as mmcbnu\n",
    "from common.data_pipeline.FV_USM.dataset import DatasetLoader as fvusm\n",
    "from common.util.enums import EnvironmentType\n",
    "\n",
    "datasets = DatasetChainer(datasets=[mmcbnu(included_portion=0.001), fvusm(included_portion=0)])\n",
    "train, test, validation = datasets.get_dataset(\n",
    "    EnvironmentType.PYTORCH,\n",
    ")"
   ]
  },
  {
   "cell_type": "code",
   "execution_count": 2,
   "metadata": {},
   "outputs": [
    {
     "data": {
      "text/plain": [
       "[DatasetObject(path='./datasets/MMCBNU_6000/ROIs/028/L_Ring/08.bmp', name='028/L_Ring/08.bmp', label=None, mask_path=None, metadata={'finger': 'ring', 'hand': 'left', 'is_augmented': False}),\n",
       " DatasetObject(path='./datasets/MMCBNU_6000/ROIs/096/R_Ring/03.bmp', name='096/R_Ring/03.bmp', label=None, mask_path=None, metadata={'finger': 'ring', 'hand': 'right', 'is_augmented': False}),\n",
       " DatasetObject(path='./datasets/MMCBNU_6000/ROIs/089/L_Ring/05.bmp', name='089/L_Ring/05.bmp', label=None, mask_path=None, metadata={'finger': 'ring', 'hand': 'left', 'is_augmented': False}),\n",
       " DatasetObject(path='./datasets/MMCBNU_6000/ROIs/064/L_Ring/06.bmp', name='064/L_Ring/06.bmp', label=None, mask_path=None, metadata={'finger': 'ring', 'hand': 'left', 'is_augmented': False})]"
      ]
     },
     "execution_count": 2,
     "metadata": {},
     "output_type": "execute_result"
    }
   ],
   "source": [
    "from common.util.enums import DatasetSplitType\n",
    "\n",
    "\n",
    "datasets.get_files(DatasetSplitType.TRAIN)"
   ]
  }
 ],
 "metadata": {
  "kernelspec": {
   "display_name": "dl-tf",
   "language": "python",
   "name": "python3"
  },
  "language_info": {
   "codemirror_mode": {
    "name": "ipython",
    "version": 3
   },
   "file_extension": ".py",
   "mimetype": "text/x-python",
   "name": "python",
   "nbconvert_exporter": "python",
   "pygments_lexer": "ipython3",
   "version": "3.11.4"
  },
  "orig_nbformat": 4
 },
 "nbformat": 4,
 "nbformat_minor": 2
}
