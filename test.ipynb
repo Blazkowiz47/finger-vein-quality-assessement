{
 "cells": [
  {
   "cell_type": "code",
   "execution_count": 1,
   "metadata": {},
   "outputs": [
    {
     "name": "stderr",
     "output_type": "stream",
     "text": [
      "2023-08-22 01:14:46,556 - root - INFO - Compiled train/test/validation split for MMCBNU6000\n",
      "2023-08-22 01:14:46,565 - root - INFO - Compiled train/test/validation split for FV_USM\n",
      "2023-08-22 01:14:46,566 - root - INFO - Concatenating train set\n",
      "2023-08-22 01:14:47,673 - root - INFO - Concatenating test set\n",
      "2023-08-22 01:14:47,676 - root - INFO - Concatenating validation set\n"
     ]
    }
   ],
   "source": [
    "from common.data_pipeline.dataset import DatasetCompiler\n",
    "from common.data_pipeline.MMCBNU_6000.dataset import DatasetLoader as mmcbnu\n",
    "from common.data_pipeline.FV_USM.dataset import DatasetLoader as fvusm\n",
    "\n",
    "datasets = DatasetCompiler(datasets=[mmcbnu(included_portion=0.001), fvusm(included_portion=0)])\n",
    "compiled_datasets = datasets.compile_datasets()"
   ]
  },
  {
   "cell_type": "code",
   "execution_count": 2,
   "metadata": {},
   "outputs": [
    {
     "data": {
      "text/plain": [
       "[DatasetObject(path='./datasets/MMCBNU_6000/ROIs/066/L_Fore/10.bmp', name='066/L_Fore/10.bmp', label=None, mask_path=None, metadata={'finger': 'fore', 'hand': 'left', 'is_augmented': False})]"
      ]
     },
     "execution_count": 2,
     "metadata": {},
     "output_type": "execute_result"
    }
   ],
   "source": [
    "from common.util.enums import SetType\n",
    "\n",
    "\n",
    "datasets.files[SetType.VALIDATION]"
   ]
  }
 ],
 "metadata": {
  "kernelspec": {
   "display_name": "dl-tf",
   "language": "python",
   "name": "python3"
  },
  "language_info": {
   "codemirror_mode": {
    "name": "ipython",
    "version": 3
   },
   "file_extension": ".py",
   "mimetype": "text/x-python",
   "name": "python",
   "nbconvert_exporter": "python",
   "pygments_lexer": "ipython3",
   "version": "3.9.17"
  },
  "orig_nbformat": 4
 },
 "nbformat": 4,
 "nbformat_minor": 2
}
