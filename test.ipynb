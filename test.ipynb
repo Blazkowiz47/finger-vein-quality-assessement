{
 "cells": [
  {
   "cell_type": "code",
   "execution_count": 1,
   "metadata": {},
   "outputs": [
    {
     "name": "stderr",
     "output_type": "stream",
     "text": [
      "2023-08-22 18:23:12,076 - root - INFO - Preprocessing MMCBNU6000 dataset for train split.\n",
      "100%|██████████| 4/4 [00:00<00:00, 90.14it/s]\n",
      "2023-08-22 18:23:12,130 - root - INFO - Preprocessing MMCBNU6000 dataset for test split.\n",
      "100%|██████████| 1/1 [00:00<00:00, 1049.10it/s]\n",
      "2023-08-22 18:23:12,133 - root - INFO - Preprocessing MMCBNU6000 dataset for validation split.\n",
      "100%|██████████| 1/1 [00:00<00:00, 970.01it/s]\n",
      "2023-08-22 18:23:12,145 - root - INFO - Preprocessing FV_USM dataset for train split.\n",
      "0it [00:00, ?it/s]\n",
      "2023-08-22 18:23:12,148 - root - INFO - Preprocessing FV_USM dataset for test split.\n",
      "0it [00:00, ?it/s]\n",
      "2023-08-22 18:23:12,150 - root - INFO - Preprocessing FV_USM dataset for validation split.\n",
      "0it [00:00, ?it/s]\n",
      "2023-08-22 18:23:12,153 - root - INFO - Concatenating train set\n",
      "2023-08-22 18:23:12,155 - root - INFO - Concatenating test set\n",
      "2023-08-22 18:23:12,155 - root - INFO - Concatenating validation set\n"
     ]
    }
   ],
   "source": [
    "from common.data_pipeline.MMCBNU_6000.dataset import DatasetLoader as mmcbnu\n",
    "from common.data_pipeline.FV_USM.dataset import DatasetLoader as fvusm\n",
    "from common.util.data_pipeline.dataset_chainer import DatasetChainer\n",
    "from common.util.enums import EnvironmentType\n",
    "\n",
    "environment = EnvironmentType.PYTORCH\n",
    "datasets = DatasetChainer(\n",
    "    datasets=[\n",
    "        mmcbnu(included_portion=0.001, environment_type=environment),\n",
    "        fvusm(included_portion=0, environment_type=environment),\n",
    "    ]\n",
    ")\n",
    "train, test, validation = datasets.get_dataset(environment)"
   ]
  },
  {
   "cell_type": "code",
   "execution_count": 2,
   "metadata": {},
   "outputs": [],
   "source": [
    "from common.util.enums import DatasetSplitType\n",
    "\n",
    "\n",
    "# datasets.get_files(DatasetSplitType.TRAIN)"
   ]
  },
  {
   "cell_type": "code",
   "execution_count": 3,
   "metadata": {},
   "outputs": [
    {
     "name": "stdout",
     "output_type": "stream",
     "text": [
      "MyModel(\n",
      "  (conv1): Conv2d(1, 4, kernel_size=(3, 3), stride=(1, 1))\n",
      "  (relu1): ReLU()\n",
      "  (conv2): Conv2d(4, 8, kernel_size=(3, 3), stride=(2, 2))\n",
      "  (relu2): ReLU()\n",
      "  (fc): Linear(in_features=72, out_features=1, bias=True)\n",
      "  (sigmoid): Sigmoid()\n",
      ")\n"
     ]
    }
   ],
   "source": [
    "import torch\n",
    "import torch.nn as nn\n",
    "\n",
    "\n",
    "class MyModel(nn.Module):\n",
    "    def __init__(self):\n",
    "        super(MyModel, self).__init__()\n",
    "\n",
    "        # Layer 1: CNN with filter size 3\n",
    "        self.conv1 = nn.Conv2d(in_channels=1, out_channels=4, kernel_size=3, padding=0)\n",
    "        self.relu1 = nn.ReLU()\n",
    "\n",
    "        # Layer 2: CNN with filter size 3 and stride 2\n",
    "        self.conv2 = nn.Conv2d(in_channels=4, out_channels=8, kernel_size=3, stride=2, padding=0)\n",
    "        self.relu2 = nn.ReLU()\n",
    "\n",
    "        # Layer 3: Dense layer\n",
    "        self.fc = nn.Linear(in_features=72, out_features=1)\n",
    "        self.sigmoid = nn.Sigmoid()\n",
    "\n",
    "    def forward(self, x):\n",
    "        # Apply layer 1\n",
    "        x = self.conv1(x)\n",
    "\n",
    "        x = self.relu1(x)\n",
    "\n",
    "        # Apply layer 2\n",
    "        x = self.conv2(x)\n",
    "        x = self.relu2(x)\n",
    "\n",
    "        # Flatten the tensor before passing through the dense layer\n",
    "        x = x.view(x.size(0), -1)\n",
    "\n",
    "        # Apply layer 3\n",
    "        x = self.fc(x)\n",
    "        x = self.sigmoid(x)\n",
    "\n",
    "        return x\n",
    "\n",
    "\n",
    "# Instantiate the model\n",
    "model = MyModel()\n",
    "\n",
    "# Print the model architecture\n",
    "print(model)"
   ]
  },
  {
   "cell_type": "code",
   "execution_count": 4,
   "metadata": {},
   "outputs": [
    {
     "name": "stdout",
     "output_type": "stream",
     "text": [
      "Epoch [1/10], Loss: 0.6674, Val Loss: 0.6661, Accuracy: 0.00%\n",
      "Epoch [2/10], Loss: 0.6641, Val Loss: 0.6630, Accuracy: 0.00%\n",
      "Epoch [3/10], Loss: 0.6609, Val Loss: 0.6599, Accuracy: 0.00%\n",
      "Epoch [4/10], Loss: 0.6577, Val Loss: 0.6565, Accuracy: 0.00%\n",
      "Epoch [5/10], Loss: 0.6544, Val Loss: 0.6531, Accuracy: 0.00%\n",
      "Epoch [6/10], Loss: 0.6512, Val Loss: 0.6496, Accuracy: 0.00%\n",
      "Epoch [7/10], Loss: 0.6480, Val Loss: 0.6460, Accuracy: 0.00%\n",
      "Epoch [8/10], Loss: 0.6448, Val Loss: 0.6424, Accuracy: 0.00%\n",
      "Epoch [9/10], Loss: 0.6415, Val Loss: 0.6388, Accuracy: 0.00%\n",
      "Epoch [10/10], Loss: 0.6382, Val Loss: 0.6351, Accuracy: 0.00%\n"
     ]
    },
    {
     "data": {
      "text/plain": [
       "MyModel(\n",
       "  (conv1): Conv2d(1, 4, kernel_size=(3, 3), stride=(1, 1))\n",
       "  (relu1): ReLU()\n",
       "  (conv2): Conv2d(4, 8, kernel_size=(3, 3), stride=(2, 2))\n",
       "  (relu2): ReLU()\n",
       "  (fc): Linear(in_features=72, out_features=1, bias=True)\n",
       "  (sigmoid): Sigmoid()\n",
       ")"
      ]
     },
     "execution_count": 4,
     "metadata": {},
     "output_type": "execute_result"
    }
   ],
   "source": [
    "import torch.optim as optim\n",
    "\n",
    "criterion = nn.BCELoss()\n",
    "optimizer = optim.Adam(model.parameters(), lr=0.001)\n",
    "\n",
    "# Training loop\n",
    "num_epochs = 10\n",
    "for epoch in range(num_epochs):\n",
    "    model.train()\n",
    "    for inputs, labels in train:\n",
    "        optimizer.zero_grad()\n",
    "        outputs = model(inputs.float())\n",
    "        loss = criterion(outputs, labels.float())\n",
    "        loss.backward()\n",
    "        optimizer.step()\n",
    "\n",
    "    # Validation loop (optional)\n",
    "    model.eval()\n",
    "    val_loss = 0.0\n",
    "    correct = 0\n",
    "    total = 0\n",
    "    with torch.no_grad():\n",
    "        for inputs, labels in validation:\n",
    "            outputs = model(inputs.float())\n",
    "            val_loss += criterion(outputs, labels.float())\n",
    "            predicted = (outputs > 0.8).float()\n",
    "            total += labels.size(0)\n",
    "            correct += (predicted == labels).sum().item()\n",
    "\n",
    "    print(\n",
    "        f\"Epoch [{epoch+1}/{num_epochs}], Loss: {loss.item():.4f}, Val Loss: {val_loss.item():.4f}, Accuracy: {(correct/total)*100:.2f}%\"\n",
    "    )\n",
    "model.train()"
   ]
  }
 ],
 "metadata": {
  "kernelspec": {
   "display_name": "dl-tf",
   "language": "python",
   "name": "python3"
  },
  "language_info": {
   "codemirror_mode": {
    "name": "ipython",
    "version": 3
   },
   "file_extension": ".py",
   "mimetype": "text/x-python",
   "name": "python",
   "nbconvert_exporter": "python",
   "pygments_lexer": "ipython3",
   "version": "3.11.4"
  },
  "orig_nbformat": 4
 },
 "nbformat": 4,
 "nbformat_minor": 2
}
