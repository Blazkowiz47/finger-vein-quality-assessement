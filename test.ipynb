{
 "cells": [
  {
   "cell_type": "code",
   "execution_count": 1,
   "metadata": {},
   "outputs": [
    {
     "name": "stderr",
     "output_type": "stream",
     "text": [
      "2023-08-22 14:10:41,390 - root - INFO - Compiled train/test/validation split for MMCBNU6000\n",
      "2023-08-22 14:10:41,466 - root - INFO - Compiled train/test/validation split for FV_USM\n",
      "2023-08-22 14:10:41,468 - root - INFO - Concatenating train set\n",
      "2023-08-22 14:10:41,469 - root - INFO - Concatenating test set\n",
      "2023-08-22 14:10:41,471 - root - INFO - Concatenating validation set\n"
     ]
    }
   ],
   "source": [
    "from common.data_pipeline.MMCBNU_6000.dataset import DatasetLoader as mmcbnu\n",
    "from common.data_pipeline.FV_USM.dataset import DatasetLoader as fvusm\n",
    "from common.util.data_pipeline.dataset_chainer import DatasetChainer\n",
    "from common.util.enums import EnvironmentType\n",
    "\n",
    "datasets = DatasetChainer(datasets=[mmcbnu(included_portion=0.001), fvusm(included_portion=0)])\n",
    "train, test, validation = datasets.get_dataset(\n",
    "    EnvironmentType.TENSORFLOW,\n",
    ")"
   ]
  },
  {
   "cell_type": "code",
   "execution_count": 2,
   "metadata": {},
   "outputs": [
    {
     "data": {
      "text/plain": [
       "[DatasetObject(path='./datasets/MMCBNU_6000/ROIs/065/L_Middle/10.bmp', name='065/L_Middle/10.bmp', label=None, mask_path=None, metadata={'finger': 'middle', 'hand': 'left', 'is_augmented': False}),\n",
       " DatasetObject(path='./datasets/MMCBNU_6000/ROIs/052/L_Ring/02.bmp', name='052/L_Ring/02.bmp', label=None, mask_path=None, metadata={'finger': 'ring', 'hand': 'left', 'is_augmented': False}),\n",
       " DatasetObject(path='./datasets/MMCBNU_6000/ROIs/037/R_Fore/07.bmp', name='037/R_Fore/07.bmp', label=None, mask_path=None, metadata={'finger': 'fore', 'hand': 'right', 'is_augmented': False}),\n",
       " DatasetObject(path='./datasets/MMCBNU_6000/ROIs/051/R_Fore/04.bmp', name='051/R_Fore/04.bmp', label=None, mask_path=None, metadata={'finger': 'fore', 'hand': 'right', 'is_augmented': False})]"
      ]
     },
     "execution_count": 2,
     "metadata": {},
     "output_type": "execute_result"
    }
   ],
   "source": [
    "from common.util.enums import DatasetSplitType\n",
    "\n",
    "\n",
    "datasets.get_files(DatasetSplitType.TRAIN)"
   ]
  }
 ],
 "metadata": {
  "kernelspec": {
   "display_name": "dl-tf",
   "language": "python",
   "name": "python3"
  },
  "language_info": {
   "codemirror_mode": {
    "name": "ipython",
    "version": 3
   },
   "file_extension": ".py",
   "mimetype": "text/x-python",
   "name": "python",
   "nbconvert_exporter": "python",
   "pygments_lexer": "ipython3",
   "version": "3.9.17"
  },
  "orig_nbformat": 4
 },
 "nbformat": 4,
 "nbformat_minor": 2
}
