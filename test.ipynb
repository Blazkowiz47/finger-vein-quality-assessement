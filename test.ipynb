{
 "cells": [
  {
   "cell_type": "code",
   "execution_count": 1,
   "metadata": {},
   "outputs": [
    {
     "name": "stdout",
     "output_type": "stream",
     "text": [
      "Using device: cuda\n",
      "NVIDIA GeForce GTX 1050 Ti\n",
      "Memory Usage:\n",
      "Allocated: 0.0 GB\n",
      "Cached:    0.0 GB\n"
     ]
    }
   ],
   "source": [
    "import torch\n",
    "\n",
    "device = torch.device(\"cuda\" if torch.cuda.is_available() else \"cpu\")\n",
    "print(\"Using device:\", device)\n",
    "\n",
    "# Additional Info when using cuda\n",
    "if device.type == \"cuda\":\n",
    "    print(torch.cuda.get_device_name(0))\n",
    "    print(\"Memory Usage:\")\n",
    "    print(\"Allocated:\", round(torch.cuda.memory_allocated(0) / 1024**3, 1), \"GB\")\n",
    "    print(\"Cached:   \", round(torch.cuda.memory_reserved(0) / 1024**3, 1), \"GB\")\n",
    "\n",
    "# To watch nvidia-smi continuously after every 2 seconds: watch -n 2 nvidia-smi"
   ]
  },
  {
   "cell_type": "code",
   "execution_count": 2,
   "metadata": {},
   "outputs": [],
   "source": [
    "BATCH_SIZE = 20\n",
    "EPOCHS = 20"
   ]
  },
  {
   "cell_type": "code",
   "execution_count": 3,
   "metadata": {},
   "outputs": [
    {
     "name": "stderr",
     "output_type": "stream",
     "text": [
      "2023-09-12 10:09:21,607 - root - INFO - Preprocessing MMCBNU6000 dataset for train split.\n",
      "100%|██████████| 4800/4800 [00:01<00:00, 4464.61it/s]\n",
      "2023-09-12 10:09:22,838 - root - INFO - Preprocessing MMCBNU6000 dataset for test split.\n",
      "0it [00:00, ?it/s]\n",
      "2023-09-12 10:09:22,838 - root - INFO - Preprocessing MMCBNU6000 dataset for validation split.\n",
      "100%|██████████| 1200/1200 [00:00<00:00, 4156.17it/s]\n",
      "2023-09-12 10:09:23,184 - root - INFO - Preprocessing FV_USM dataset for train split.\n",
      "0it [00:00, ?it/s]\n",
      "2023-09-12 10:09:23,188 - root - INFO - Preprocessing FV_USM dataset for test split.\n",
      "0it [00:00, ?it/s]\n",
      "2023-09-12 10:09:23,191 - root - INFO - Preprocessing FV_USM dataset for validation split.\n",
      "0it [00:00, ?it/s]\n",
      "2023-09-12 10:09:23,195 - root - INFO - Concatenating train set\n",
      "2023-09-12 10:09:23,346 - root - INFO - Concatenating test set\n",
      "2023-09-12 10:09:23,347 - root - INFO - Concatenating validation set\n"
     ]
    }
   ],
   "source": [
    "from common.data_pipeline.MMCBNU_6000.dataset import DatasetLoader as mmcbnu\n",
    "from common.data_pipeline.FV_USM.dataset import DatasetLoader as fvusm\n",
    "from common.util.data_pipeline.dataset_chainer import DatasetChainer\n",
    "from common.util.enums import EnvironmentType\n",
    "\n",
    "environment = EnvironmentType.PYTORCH\n",
    "datasets = DatasetChainer(\n",
    "    datasets=[\n",
    "        mmcbnu(included_portion=1, environment_type=environment),\n",
    "        fvusm(included_portion=0, environment_type=environment),\n",
    "    ]\n",
    ")\n",
    "train, test, validation = datasets.get_dataset(environment, batch_size=BATCH_SIZE)"
   ]
  },
  {
   "cell_type": "code",
   "execution_count": 4,
   "metadata": {},
   "outputs": [
    {
     "name": "stdout",
     "output_type": "stream",
     "text": [
      "(4800, 1, 60, 120) (4800, 100)\n"
     ]
    }
   ],
   "source": [
    "image, labels = train.dataset.data\n",
    "print(image.shape, labels.shape)"
   ]
  },
  {
   "cell_type": "code",
   "execution_count": 5,
   "metadata": {},
   "outputs": [],
   "source": [
    "from common.util.enums import DatasetSplitType\n",
    "\n",
    "\n",
    "# datasets.get_files(DatasetSplitType.TRAIN)"
   ]
  },
  {
   "cell_type": "code",
   "execution_count": 6,
   "metadata": {},
   "outputs": [
    {
     "name": "stderr",
     "output_type": "stream",
     "text": [
      "c:\\ProgramData\\anaconda3\\envs\\dl-torch\\Lib\\site-packages\\tqdm\\auto.py:21: TqdmWarning: IProgress not found. Please update jupyter and ipywidgets. See https://ipywidgets.readthedocs.io/en/stable/user_install.html\n",
      "  from .autonotebook import tqdm as notebook_tqdm\n"
     ]
    },
    {
     "name": "stdout",
     "output_type": "stream",
     "text": [
      "dpr [0.0, 0.0, 0.0, 0.0, 0.0, 0.0, 0.0, 0.0, 0.0, 0.0, 0.0, 0.0]\n",
      "num_knn [9, 9, 10, 11, 12, 13, 13, 14, 15, 16, 17, 18]\n",
      "\n"
     ]
    }
   ],
   "source": [
    "from common.train_pipeline.isotropic_vig import isotropic_vig_ti_224_gelu\n",
    "\n",
    "model = isotropic_vig_ti_224_gelu()\n",
    "model.to(device)\n",
    "print()\n",
    "# print(model)"
   ]
  },
  {
   "cell_type": "code",
   "execution_count": 7,
   "metadata": {},
   "outputs": [
    {
     "name": "stderr",
     "output_type": "stream",
     "text": [
      "Epoch 0: 100%|██████████| 240/240 [00:28<00:00,  8.50it/s]\n"
     ]
    },
    {
     "ename": "RuntimeError",
     "evalue": "\"bitwise_and_cuda\" not implemented for 'Float'",
     "output_type": "error",
     "traceback": [
      "\u001b[1;31m---------------------------------------------------------------------------\u001b[0m",
      "\u001b[1;31mRuntimeError\u001b[0m                              Traceback (most recent call last)",
      "\u001b[1;32mg:\\finger-vein-quality-assessement\\test.ipynb Cell 7\u001b[0m line \u001b[0;36m3\n\u001b[0;32m     <a href='vscode-notebook-cell:/g%3A/finger-vein-quality-assessement/test.ipynb#W6sZmlsZQ%3D%3D?line=34'>35</a>\u001b[0m             predicted \u001b[39m=\u001b[39m (outputs \u001b[39m==\u001b[39m outputs\u001b[39m.\u001b[39mmax())\u001b[39m.\u001b[39mfloat()\n\u001b[0;32m     <a href='vscode-notebook-cell:/g%3A/finger-vein-quality-assessement/test.ipynb#W6sZmlsZQ%3D%3D?line=35'>36</a>\u001b[0m             total \u001b[39m+\u001b[39m\u001b[39m=\u001b[39m labels\u001b[39m.\u001b[39msize(\u001b[39m0\u001b[39m)\n\u001b[1;32m---> <a href='vscode-notebook-cell:/g%3A/finger-vein-quality-assessement/test.ipynb#W6sZmlsZQ%3D%3D?line=37'>38</a>\u001b[0m             correct \u001b[39m+\u001b[39m\u001b[39m=\u001b[39m (predicted \u001b[39m&\u001b[39;49m labels)\u001b[39m.\u001b[39msum()\u001b[39m.\u001b[39mitem()\n\u001b[0;32m     <a href='vscode-notebook-cell:/g%3A/finger-vein-quality-assessement/test.ipynb#W6sZmlsZQ%3D%3D?line=39'>40</a>\u001b[0m     \u001b[39mprint\u001b[39m(\n\u001b[0;32m     <a href='vscode-notebook-cell:/g%3A/finger-vein-quality-assessement/test.ipynb#W6sZmlsZQ%3D%3D?line=40'>41</a>\u001b[0m         \u001b[39mf\u001b[39m\u001b[39m\"\u001b[39m\u001b[39mEpoch [\u001b[39m\u001b[39m{\u001b[39;00mepoch\u001b[39m+\u001b[39m\u001b[39m1\u001b[39m\u001b[39m}\u001b[39;00m\u001b[39m/\u001b[39m\u001b[39m{\u001b[39;00mEPOCHS\u001b[39m}\u001b[39;00m\u001b[39m], Loss: \u001b[39m\u001b[39m{\u001b[39;00mloss\u001b[39m.\u001b[39mitem()\u001b[39m:\u001b[39;00m\u001b[39m.4f\u001b[39m\u001b[39m}\u001b[39;00m\u001b[39m, Val Loss: \u001b[39m\u001b[39m{\u001b[39;00mval_loss\u001b[39m.\u001b[39mitem()\u001b[39m:\u001b[39;00m\u001b[39m.4f\u001b[39m\u001b[39m}\u001b[39;00m\u001b[39m, Accuracy: \u001b[39m\u001b[39m{\u001b[39;00m(correct\u001b[39m/\u001b[39mtotal)\u001b[39m*\u001b[39m\u001b[39m100\u001b[39m\u001b[39m:\u001b[39;00m\u001b[39m.2f\u001b[39m\u001b[39m}\u001b[39;00m\u001b[39m%\u001b[39m\u001b[39m\"\u001b[39m\n\u001b[0;32m     <a href='vscode-notebook-cell:/g%3A/finger-vein-quality-assessement/test.ipynb#W6sZmlsZQ%3D%3D?line=41'>42</a>\u001b[0m     )\n\u001b[0;32m     <a href='vscode-notebook-cell:/g%3A/finger-vein-quality-assessement/test.ipynb#W6sZmlsZQ%3D%3D?line=42'>43</a>\u001b[0m model\u001b[39m.\u001b[39mtrain()\n",
      "\u001b[1;31mRuntimeError\u001b[0m: \"bitwise_and_cuda\" not implemented for 'Float'"
     ]
    }
   ],
   "source": [
    "import torch.optim as optim\n",
    "import torch.nn as nn\n",
    "import torch\n",
    "from tqdm import tqdm\n",
    "\n",
    "optimizer = optim.Adam(model.parameters(), lr=0.001)\n",
    "jsd = None\n",
    "mixup_active = None\n",
    "\n",
    "train_loss_fn = nn.CrossEntropyLoss().cuda()\n",
    "validate_loss_fn = nn.CrossEntropyLoss().cuda()\n",
    "\n",
    "# Training loop\n",
    "for epoch in range(EPOCHS):\n",
    "    model.train()\n",
    "    for inputs, labels in tqdm(train, desc=f\"Epoch {epoch}: \"):\n",
    "        inputs = inputs.float().to(device)\n",
    "        labels = labels.float().to(device)\n",
    "        optimizer.zero_grad()\n",
    "        outputs = model(inputs)\n",
    "        loss = train_loss_fn(outputs, labels)\n",
    "        loss.backward()\n",
    "        optimizer.step()\n",
    "\n",
    "    model.eval()\n",
    "    val_loss = 0.0\n",
    "    correct = 0\n",
    "    total = 0\n",
    "    with torch.no_grad():\n",
    "        for inputs, labels in validation:\n",
    "            inputs = inputs.float().to(device)\n",
    "            labels = labels.float().to(device)\n",
    "            outputs = model(inputs)\n",
    "            val_loss += validate_loss_fn(outputs, labels)\n",
    "            predicted = (outputs == outputs.max()).float()\n",
    "            total += labels.size(0)\n",
    "\n",
    "            correct += (predicted & labels).sum().item()\n",
    "\n",
    "    print(\n",
    "        f\"Epoch [{epoch+1}/{EPOCHS}], Loss: {loss.item():.4f}, Val Loss: {val_loss.item():.4f}, Accuracy: {(correct/total)*100:.2f}%\"\n",
    "    )\n",
    "model.train()"
   ]
  },
  {
   "cell_type": "code",
   "execution_count": null,
   "metadata": {},
   "outputs": [],
   "source": [
    "import cv2\n",
    "import matplotlib.pyplot as plt\n",
    "import numpy as np\n",
    "\n",
    "image_path = \"./datasets/MMCBNU_6000/ROIs/084/L_Fore/02.bmp\"\n",
    "image = cv2.imread(image_path, cv2.IMREAD_GRAYSCALE)\n",
    "plt.imshow(image, cmap=\"gray\")\n",
    "plt.show()\n",
    "res_img = cv2.resize(image, (120, 60))\n",
    "plt.imshow(res_img, cmap=\"gray\")\n",
    "plt.show()"
   ]
  },
  {
   "cell_type": "code",
   "execution_count": null,
   "metadata": {},
   "outputs": [],
   "source": []
  }
 ],
 "metadata": {
  "kernelspec": {
   "display_name": "dl-tf",
   "language": "python",
   "name": "python3"
  },
  "language_info": {
   "codemirror_mode": {
    "name": "ipython",
    "version": 3
   },
   "file_extension": ".py",
   "mimetype": "text/x-python",
   "name": "python",
   "nbconvert_exporter": "python",
   "pygments_lexer": "ipython3",
   "version": "3.11.5"
  },
  "orig_nbformat": 4
 },
 "nbformat": 4,
 "nbformat_minor": 2
}
