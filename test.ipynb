{
 "cells": [
  {
   "cell_type": "code",
   "execution_count": 1,
   "metadata": {},
   "outputs": [
    {
     "name": "stdout",
     "output_type": "stream",
     "text": [
      "{<SetType.TRAIN: 'train'>: [DatasetObject(path='./datasets/MMCBNU_6000/ROIs/004/L_Middle/09.bmp', name='004/L_Middle/09.bmp', label=None, mask_path=None, metadata={'finger': 'middle', 'hand': 'left', 'is_augmented': False}), DatasetObject(path='./datasets/MMCBNU_6000/ROIs/001/L_Ring/01.bmp', name='001/L_Ring/01.bmp', label=None, mask_path=None, metadata={'finger': 'ring', 'hand': 'left', 'is_augmented': False}), DatasetObject(path='./datasets/MMCBNU_6000/ROIs/013/L_Middle/01.bmp', name='013/L_Middle/01.bmp', label=None, mask_path=None, metadata={'finger': 'middle', 'hand': 'left', 'is_augmented': False}), DatasetObject(path='./datasets/MMCBNU_6000/ROIs/090/R_Fore/07.bmp', name='090/R_Fore/07.bmp', label=None, mask_path=None, metadata={'finger': 'fore', 'hand': 'right', 'is_augmented': False})], <SetType.TEST: 'test'>: [DatasetObject(path='./datasets/MMCBNU_6000/ROIs/070/R_Ring/01.bmp', name='070/R_Ring/01.bmp', label=None, mask_path=None, metadata={'finger': 'ring', 'hand': 'right', 'is_augmented': False})], <SetType.VALIDATION: 'validation'>: [DatasetObject(path='./datasets/MMCBNU_6000/ROIs/043/L_Fore/03.bmp', name='043/L_Fore/03.bmp', label=None, mask_path=None, metadata={'finger': 'fore', 'hand': 'left', 'is_augmented': False})]}\n",
      "{<SetType.TRAIN: 'train'>: [], <SetType.TEST: 'test'>: [], <SetType.VALIDATION: 'validation'>: []}\n",
      "Concatenating train set\n",
      "Concatenating test set\n",
      "Concatenating validation set\n"
     ]
    }
   ],
   "source": [
    "from common.data_pipeline.dataset import DatasetCompiler\n",
    "from common.data_pipeline.MMCBNU_6000.dataset import DatasetLoader as mmcbnu\n",
    "from common.data_pipeline.FV_USM.dataset import DatasetLoader as fvusm\n",
    "\n",
    "datasets = DatasetCompiler(datasets=[mmcbnu(included_portion=0.001), fvusm(included_portion=0)])\n",
    "compiled_datasets = datasets.compile_datasets()"
   ]
  },
  {
   "cell_type": "code",
   "execution_count": 4,
   "metadata": {},
   "outputs": [
    {
     "data": {
      "text/plain": [
       "[DatasetObject(path='./datasets/MMCBNU_6000/ROIs/043/L_Fore/03.bmp', name='043/L_Fore/03.bmp', label=None, mask_path=None, metadata={'finger': 'fore', 'hand': 'left', 'is_augmented': False})]"
      ]
     },
     "execution_count": 4,
     "metadata": {},
     "output_type": "execute_result"
    }
   ],
   "source": [
    "from common.utll.enums import SetType\n",
    "\n",
    "\n",
    "datasets.files[SetType.VALIDATION]"
   ]
  }
 ],
 "metadata": {
  "kernelspec": {
   "display_name": "dl-tf",
   "language": "python",
   "name": "python3"
  },
  "language_info": {
   "codemirror_mode": {
    "name": "ipython",
    "version": 3
   },
   "file_extension": ".py",
   "mimetype": "text/x-python",
   "name": "python",
   "nbconvert_exporter": "python",
   "pygments_lexer": "ipython3",
   "version": "3.9.17"
  },
  "orig_nbformat": 4
 },
 "nbformat": 4,
 "nbformat_minor": 2
}
